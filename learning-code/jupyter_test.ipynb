{
 "cells": [
  {
   "cell_type": "code",
   "execution_count": 1,
   "metadata": {},
   "outputs": [
    {
     "name": "stdout",
     "output_type": "stream",
     "text": [
      "Fitting Parameters: [-0.03879908]\n"
     ]
    }
   ],
   "source": [
    "# %load D:\\BigData\\learning-code\\test.py\n",
    "import numpy as np\n",
    "import scipy as sp\n",
    "from scipy.optimize import leastsq\n",
    "import matplotlib.pyplot as plt\n",
    "#%matplotlib inline\n",
    "\n",
    "def real_func(x):\n",
    "    return np.sin(2*np.pi*x)\n",
    "\n",
    "def fit_func(p,x):\n",
    "    f = np.poly1d(p)\n",
    "    return f(x)\n",
    "\n",
    "def residuals_func(p,x,y):\n",
    "    ret = fit_func(p,x) - y\n",
    "    return ret\n",
    "\n",
    "x = np.linspace(0,1,10)\n",
    "x_points = np.linspace(0,1,1000)\n",
    "\n",
    "y_ = real_func(x)\n",
    "y = [np.random.normal(0,0.1)+y1 for y1 in y_]\n",
    "\n",
    "def fitting(M = 0):\n",
    "    p_init = np.random.rand(M+1)\n",
    "\n",
    "    p_lsq = leastsq(residuals_func,p_init,args = (x,y))\n",
    "    print(\"Fitting Parameters:\",p_lsq[0])\n",
    "\n",
    "    plt.plot(x_points, real_func(x_points), label ='real')\n",
    "    plt.plot(x_points, fit_func(p_lsq[0],x_points), label = 'fitted curve')\n",
    "    plt.plot(x,y,'bo',label = 'noise')\n",
    "    plt.legend()\n",
    "    return p_lsq\n",
    "\n",
    "p_lsq_0 = fitting(M = 0)"
   ]
  },
  {
   "cell_type": "code",
   "execution_count": 2,
   "metadata": {},
   "outputs": [
    {
     "ename": "SyntaxError",
     "evalue": "invalid syntax (test.py, line 5)",
     "output_type": "error",
     "traceback": [
      "\u001b[1;36m  File \u001b[1;32m\"D:\\BigData\\learning-code\\test.py\"\u001b[1;36m, line \u001b[1;32m5\u001b[0m\n\u001b[1;33m    %matplotlib inline\u001b[0m\n\u001b[1;37m    ^\u001b[0m\n\u001b[1;31mSyntaxError\u001b[0m\u001b[1;31m:\u001b[0m invalid syntax\n"
     ]
    }
   ],
   "source": [
    "%run D:\\BigData\\learning-code\\test.py"
   ]
  },
  {
   "cell_type": "code",
   "execution_count": null,
   "metadata": {},
   "outputs": [],
   "source": []
  }
 ],
 "metadata": {
  "kernelspec": {
   "display_name": "Python 3",
   "language": "python",
   "name": "python3"
  },
  "language_info": {
   "codemirror_mode": {
    "name": "ipython",
    "version": 3
   },
   "file_extension": ".py",
   "mimetype": "text/x-python",
   "name": "python",
   "nbconvert_exporter": "python",
   "pygments_lexer": "ipython3",
   "version": "3.6.5"
  }
 },
 "nbformat": 4,
 "nbformat_minor": 2
}
